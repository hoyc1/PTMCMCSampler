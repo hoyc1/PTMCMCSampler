{
 "cells": [
  {
   "cell_type": "code",
   "execution_count": 1,
   "metadata": {},
   "outputs": [
    {
     "name": "stdout",
     "output_type": "stream",
     "text": [
      "Do not have mpi4py package.\n",
      "Do not have emcee package\n"
     ]
    }
   ],
   "source": [
    "import numpy as np\n",
    "import matplotlib.pylab as plt\n",
    "import corner\n",
    "import numpy as np\n",
    "import glob\n",
    "from PTMCMCSampler import PTMCMCSampler\n",
    "from PTMCMCSampler import proposals\n",
    "\n",
    "%matplotlib inline"
   ]
  },
  {
   "cell_type": "markdown",
   "metadata": {},
   "source": [
    "## List of available jump proposals"
   ]
  },
  {
   "cell_type": "markdown",
   "metadata": {},
   "source": [
    "`PTMCMC` already has a list of default jump proposals. These can be viewed by running"
   ]
  },
  {
   "cell_type": "code",
   "execution_count": 2,
   "metadata": {},
   "outputs": [
    {
     "name": "stdout",
     "output_type": "stream",
     "text": [
      "Available jump proposals:\n",
      "\n",
      "SingleComponentAdaptiveCovariance\n",
      "AdaptiveCovariance\n",
      "SingleComponentAdaptiveGaussian\n",
      "MultiComponentAdaptiveGaussian\n",
      "AdaptiveGaussian\n",
      "DifferentialEvolution\n",
      "Normal\n",
      "Uniform\n",
      "Prior\n"
     ]
    }
   ],
   "source": [
    "proposals.available_jump_proposals()"
   ]
  },
  {
   "cell_type": "markdown",
   "metadata": {},
   "source": [
    "## Default jump proposals"
   ]
  },
  {
   "cell_type": "markdown",
   "metadata": {},
   "source": [
    "By default the following jump proposals will be used"
   ]
  },
  {
   "cell_type": "code",
   "execution_count": 42,
   "metadata": {},
   "outputs": [
    {
     "name": "stdout",
     "output_type": "stream",
     "text": [
      "Default jump proposals:\n",
      "\n",
      "SingleComponentAdaptiveCovariance\n",
      "AdaptiveCovariance\n",
      "SingleComponentAdaptiveGaussian\n",
      "MultiComponentAdaptiveGaussian\n",
      "AdaptiveGaussian\n",
      "DifferentialEvolution\n"
     ]
    }
   ],
   "source": [
    "proposals.default_jump_proposals()"
   ]
  },
  {
   "cell_type": "markdown",
   "metadata": {},
   "source": [
    "Each jump proposal will have an equal weighting. This means that each jump proposal has equal probability of being picked."
   ]
  },
  {
   "cell_type": "markdown",
   "metadata": {},
   "source": [
    "## Choosing specific jump proposals"
   ]
  },
  {
   "cell_type": "markdown",
   "metadata": {},
   "source": [
    "Of course, having equal weighting for all jump proposals might not suit your problem. You are able to specify different weights for different jump proposals by passing a dictionary called weights to the `sampler` object. This dictionary might have the following form:"
   ]
  },
  {
   "cell_type": "code",
   "execution_count": 43,
   "metadata": {
    "collapsed": true
   },
   "outputs": [],
   "source": [
    "weights = {\"SingleComponentAdaptiveCovariance\": 5,\n",
    "           \"AdaptiveCovariance\": 1,\n",
    "           \"SingleComponentAdaptiveGaussian\": 1,\n",
    "           \"MultiComponentAdaptiveGaussian\": 1,\n",
    "           \"AdaptiveGaussian\": 1,\n",
    "           \"DifferentialEvolution\": 1}"
   ]
  },
  {
   "cell_type": "markdown",
   "metadata": {},
   "source": [
    "Here, the `SingleComponentAdaptiveCovariance` jump proposal will have a probaility of being used equal to `5/10 = 1/2` while the other jump proposals have probability of being chosen equal to `1/10`."
   ]
  },
  {
   "cell_type": "markdown",
   "metadata": {},
   "source": [
    "If you only want to use the `SingleComponentAdaptiveCovariance` jump proposal, then this can be done by writing your weight dictionary as:"
   ]
  },
  {
   "cell_type": "code",
   "execution_count": 44,
   "metadata": {
    "collapsed": true
   },
   "outputs": [],
   "source": [
    "weights = {\"SingleComponentAdaptiveCovariance\": 5}"
   ]
  },
  {
   "cell_type": "markdown",
   "metadata": {},
   "source": [
    "Some jump proposals (like `Normal` and `Uniform`) require addtional keyword arguments. These keyword arguments are passed to the `sampler` object by using the `jump_proposal_arguments` keyword argument. For example, if you want to use the `Uniform` jump proposal with bounds of `0` and `100` you would define a jump_proposal_argument dictionary as:"
   ]
  },
  {
   "cell_type": "code",
   "execution_count": 45,
   "metadata": {
    "collapsed": true
   },
   "outputs": [],
   "source": [
    "jump_proposal_arguments = {\"Uniform\": {\"pmin\": 0, \"pmax\": 100}}"
   ]
  },
  {
   "cell_type": "markdown",
   "metadata": {},
   "source": [
    "## Custom jump proposals"
   ]
  },
  {
   "cell_type": "markdown",
   "metadata": {},
   "source": [
    "Custom jump proposals can be added very easily. Lets say that you would like to add the following jump proposal"
   ]
  },
  {
   "cell_type": "code",
   "execution_count": 3,
   "metadata": {
    "collapsed": true
   },
   "outputs": [],
   "source": [
    "class CustomJump(object):\n",
    "    \"\"\"Class to handle my custom jump proposal\n",
    "    \"\"\"\n",
    "    def __init__(self, pmin, mode, pmax):\n",
    "        self.pmin = pmin\n",
    "        self.mode = mode\n",
    "        self.pmax = pmax\n",
    "        \n",
    "    def jump(self, samples):\n",
    "        new_samples = np.random.triangular(self.pmin, self.mode, self.pmax, len(samples))\n",
    "        return new_samples, 0.0"
   ]
  },
  {
   "cell_type": "markdown",
   "metadata": {},
   "source": [
    "You can then add this by running:"
   ]
  },
  {
   "cell_type": "code",
   "execution_count": 32,
   "metadata": {
    "collapsed": true
   },
   "outputs": [],
   "source": [
    "customjump = CustomJump(0, 5, 8)\n",
    "sampler.addProposalToCycle(customjump.jump, 10)"
   ]
  },
  {
   "cell_type": "markdown",
   "metadata": {},
   "source": [
    "Where we have chosen to give our customjump proposal a weighting of 10"
   ]
  },
  {
   "cell_type": "markdown",
   "metadata": {},
   "source": [
    "## Example"
   ]
  },
  {
   "cell_type": "code",
   "execution_count": 4,
   "metadata": {
    "collapsed": true
   },
   "outputs": [],
   "source": [
    "class GaussianLikelihood(object):\n",
    "    \n",
    "    def __init__(self, ndim=2, pmin=-10, pmax=10):\n",
    "        \n",
    "        self.a = np.ones(ndim)*pmin\n",
    "        self.b = np.ones(ndim)*pmax\n",
    "        \n",
    "        # get means\n",
    "        self.mu = np.random.uniform(pmin, pmax, ndim)\n",
    "\n",
    "        # ... and a positive definite, non-trivial covariance matrix.\n",
    "        cov  = 0.5-np.random.rand(ndim**2).reshape((ndim, ndim))\n",
    "        cov  = np.triu(cov)\n",
    "        cov += cov.T - np.diag(cov.diagonal())\n",
    "        self.cov  = np.dot(cov,cov)\n",
    "\n",
    "        # Invert the covariance matrix first.\n",
    "        self.icov = np.linalg.inv(self.cov)\n",
    "        \n",
    "    def lnlikefn(self, x):\n",
    "        diff = x - self.mu\n",
    "        return -np.dot(diff,np.dot(self.icov, diff))/2.0\n",
    "    \n",
    "    def lnpriorfn(self, x):\n",
    "        \n",
    "        if np.all(self.a <= x) and np.all(self.b >= x):\n",
    "            return 0.0\n",
    "        else:\n",
    "            return -np.inf      "
   ]
  },
  {
   "cell_type": "code",
   "execution_count": 5,
   "metadata": {
    "collapsed": true
   },
   "outputs": [],
   "source": [
    "ndim = 2\n",
    "pmin, pmax = 0.0, 10.0\n",
    "glo = GaussianLikelihood(ndim=ndim, pmin=5., pmax=6.)"
   ]
  },
  {
   "cell_type": "code",
   "execution_count": 6,
   "metadata": {
    "collapsed": true
   },
   "outputs": [],
   "source": [
    "p0 = np.random.uniform(pmin, pmax, ndim)\n",
    "cov = np.eye(ndim) * 0.1**2"
   ]
  },
  {
   "cell_type": "code",
   "execution_count": 7,
   "metadata": {
    "collapsed": true
   },
   "outputs": [],
   "source": [
    "sampler = PTMCMCSampler.PTSampler(ndim, glo.lnlikefn, glo.lnpriorfn, np.copy(cov), outDir='./chains')"
   ]
  },
  {
   "cell_type": "code",
   "execution_count": 8,
   "metadata": {
    "collapsed": true
   },
   "outputs": [],
   "source": [
    "weights = {\"Uniform\": 1}\n",
    "\n",
    "jump_proposal_arguments = {\"Uniform\": {\"pmin\": 0, \"pmax\": 10}}"
   ]
  },
  {
   "cell_type": "code",
   "execution_count": 9,
   "metadata": {
    "collapsed": true
   },
   "outputs": [],
   "source": [
    "customjump = CustomJump(0, 5, 8)\n",
    "sampler.addProposalToCycle(customjump.jump, 10)"
   ]
  },
  {
   "cell_type": "code",
   "execution_count": 10,
   "metadata": {},
   "outputs": [
    {
     "name": "stdout",
     "output_type": "stream",
     "text": [
      "Finished 99.00 percent in 15.476101 s Acceptance rate = 0.0284444\n",
      "Run Complete\n"
     ]
    },
    {
     "data": {
      "text/plain": [
       "array([[5.5024261 , 5.48829797],\n",
       "       [5.5024261 , 5.48829797],\n",
       "       [5.5024261 , 5.48829797],\n",
       "       ...,\n",
       "       [5.24837589, 5.13255974],\n",
       "       [5.39158873, 5.85375395],\n",
       "       [5.39158873, 5.85375395]])"
      ]
     },
     "execution_count": 10,
     "metadata": {},
     "output_type": "execute_result"
    }
   ],
   "source": [
    "sampler.sample(p0, 100000, weights=weights, jump_proposal_arguments=jump_proposal_arguments,\n",
    "               burn=500, thin=1, covUpdate=500)"
   ]
  },
  {
   "cell_type": "code",
   "execution_count": null,
   "metadata": {
    "collapsed": true
   },
   "outputs": [],
   "source": []
  }
 ],
 "metadata": {
  "kernelspec": {
   "display_name": "PTMCMC",
   "language": "python",
   "name": "ptmcmc"
  },
  "language_info": {
   "codemirror_mode": {
    "name": "ipython",
    "version": 3
   },
   "file_extension": ".py",
   "mimetype": "text/x-python",
   "name": "python",
   "nbconvert_exporter": "python",
   "pygments_lexer": "ipython3",
   "version": "3.6.0"
  }
 },
 "nbformat": 4,
 "nbformat_minor": 2
}
