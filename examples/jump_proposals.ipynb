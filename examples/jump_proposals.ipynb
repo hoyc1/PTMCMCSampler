{
 "cells": [
  {
   "cell_type": "code",
   "execution_count": 1,
   "metadata": {
    "collapsed": true
   },
   "outputs": [],
   "source": [
    "import numpy as np\n",
    "import matplotlib.pylab as plt\n",
    "import corner\n",
    "import numpy as np\n",
    "import glob\n",
    "from PTMCMCSampler import proposals\n",
    "\n",
    "%matplotlib inline"
   ]
  },
  {
   "cell_type": "markdown",
   "metadata": {},
   "source": [
    "## List of available jump proposals"
   ]
  },
  {
   "cell_type": "markdown",
   "metadata": {},
   "source": [
    "`PTMCMC` already has a list of default jump proposals. These can be viewed by running"
   ]
  },
  {
   "cell_type": "code",
   "execution_count": 2,
   "metadata": {},
   "outputs": [
    {
     "name": "stdout",
     "output_type": "stream",
     "text": [
      "Available jump proposals:\n",
      "\n",
      "SingleComponentAdaptiveCovariance\n",
      "AdaptiveCovariance\n",
      "SingleComponentAdaptiveGaussian\n",
      "MultiComponentAdaptiveGaussian\n",
      "AdaptiveGaussian\n",
      "DifferentialEvolution\n",
      "Normal\n",
      "Uniform\n",
      "Prior\n"
     ]
    }
   ],
   "source": [
    "proposals.available_jump_proposals()"
   ]
  },
  {
   "cell_type": "markdown",
   "metadata": {},
   "source": [
    "## Default jump proposals"
   ]
  },
  {
   "cell_type": "markdown",
   "metadata": {},
   "source": [
    "By default the following jump proposals will be used"
   ]
  },
  {
   "cell_type": "code",
   "execution_count": 3,
   "metadata": {},
   "outputs": [
    {
     "name": "stdout",
     "output_type": "stream",
     "text": [
      "Default jump proposals:\n",
      "\n",
      "SingleComponentAdaptiveCovariance\n",
      "AdaptiveCovariance\n",
      "SingleComponentAdaptiveGaussian\n",
      "MultiComponentAdaptiveGaussian\n",
      "AdaptiveGaussian\n",
      "DifferentialEvolution\n"
     ]
    }
   ],
   "source": [
    "proposals.default_jump_proposals()"
   ]
  },
  {
   "cell_type": "markdown",
   "metadata": {},
   "source": [
    "Each jump proposal will have an equal weighting. This means that each jump proposal has equal probability of being picked."
   ]
  },
  {
   "cell_type": "markdown",
   "metadata": {},
   "source": [
    "## Choosing specific jump proposals"
   ]
  },
  {
   "cell_type": "markdown",
   "metadata": {},
   "source": [
    "Of course, having equal weighting for all jump proposals might not suit your problem. You are able to specify different weights for different jump proposals by passing a dictionary called weights to the `sampler` object. This dictionary might have the following form:"
   ]
  },
  {
   "cell_type": "code",
   "execution_count": 4,
   "metadata": {
    "collapsed": true
   },
   "outputs": [],
   "source": [
    "weights = {\"SingleComponentAdaptiveCovariance\": 5,\n",
    "           \"AdaptiveCovariance\": 1,\n",
    "           \"SingleComponentAdaptiveGaussian\": 1,\n",
    "           \"MultiComponentAdaptiveGaussian\": 1,\n",
    "           \"AdaptiveGaussian\": 1,\n",
    "           \"DifferentialEvolution\": 1}"
   ]
  },
  {
   "cell_type": "markdown",
   "metadata": {},
   "source": [
    "Here, the `SingleComponentAdaptiveCovariance` jump proposal will have a probaility of being used equal to `5/10 = 1/2` while the other jump proposals have probability of being chosen equal to `1/10`."
   ]
  },
  {
   "cell_type": "markdown",
   "metadata": {},
   "source": [
    "If you only want to use the `SingleComponentAdaptiveCovariance` jump proposal, then this can be done by writing your weight dictionary as:"
   ]
  },
  {
   "cell_type": "code",
   "execution_count": 5,
   "metadata": {
    "collapsed": true
   },
   "outputs": [],
   "source": [
    "weights = {\"SingleComponentAdaptiveCovariance\": 5}"
   ]
  },
  {
   "cell_type": "markdown",
   "metadata": {},
   "source": [
    "Some jump proposals (like `Normal` and `Uniform`) require addtional keyword arguments. These keyword arguments are passed to the `sampler` object by using the `jump_proposal_arguments` keyword argument. For example, if you want to use the `Uniform` jump proposal with bounds of `0` and `100` you would define a jump_proposal_argument dictionary as:"
   ]
  },
  {
   "cell_type": "code",
   "execution_count": 6,
   "metadata": {
    "collapsed": true
   },
   "outputs": [],
   "source": [
    "jump_proposal_arguments = {\"Uniform\": {\"pmin\": 0, \"pmax\": 100}}"
   ]
  },
  {
   "cell_type": "markdown",
   "metadata": {},
   "source": [
    "## Custom jump proposals"
   ]
  },
  {
   "cell_type": "markdown",
   "metadata": {},
   "source": [
    "Custom jump proposals can be added very easily"
   ]
  },
  {
   "cell_type": "code",
   "execution_count": null,
   "metadata": {
    "collapsed": true
   },
   "outputs": [],
   "source": []
  }
 ],
 "metadata": {
  "kernelspec": {
   "display_name": "PTMCMC",
   "language": "python",
   "name": "ptmcmc"
  },
  "language_info": {
   "codemirror_mode": {
    "name": "ipython",
    "version": 3
   },
   "file_extension": ".py",
   "mimetype": "text/x-python",
   "name": "python",
   "nbconvert_exporter": "python",
   "pygments_lexer": "ipython3",
   "version": "3.6.0"
  }
 },
 "nbformat": 4,
 "nbformat_minor": 2
}
