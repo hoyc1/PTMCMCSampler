{
 "cells": [
  {
   "cell_type": "code",
   "execution_count": 11,
   "metadata": {},
   "outputs": [],
   "source": [
    "import numpy as np\n",
    "import matplotlib.pylab as plt\n",
    "import corner\n",
    "import numpy as np\n",
    "import glob\n",
    "from PTMCMCSampler import PTMCMCSampler\n",
    "\n",
    "%matplotlib inline"
   ]
  },
  {
   "cell_type": "markdown",
   "metadata": {},
   "source": [
    "## Define the likelihood and posterior\n",
    "\n",
    "Functions must read in parameter vector and output log-likelihood or log-prior. Usually easiest to use a class if you need to store some other data or parameters"
   ]
  },
  {
   "cell_type": "code",
   "execution_count": 12,
   "metadata": {
    "collapsed": true
   },
   "outputs": [],
   "source": [
    "class GaussianLikelihood(object):\n",
    "    \n",
    "    def __init__(self, ndim=2, pmin=-10, pmax=10):\n",
    "        \n",
    "        self.a = np.ones(ndim)*pmin\n",
    "        self.b = np.ones(ndim)*pmax\n",
    "        \n",
    "        # get means\n",
    "        self.mu = np.random.uniform(pmin, pmax, ndim)\n",
    "\n",
    "        # ... and a positive definite, non-trivial covariance matrix.\n",
    "        cov  = 0.5-np.random.rand(ndim**2).reshape((ndim, ndim))\n",
    "        cov  = np.triu(cov)\n",
    "        cov += cov.T - np.diag(cov.diagonal())\n",
    "        self.cov  = np.dot(cov,cov)\n",
    "\n",
    "        # Invert the covariance matrix first.\n",
    "        self.icov = np.linalg.inv(self.cov)\n",
    "        \n",
    "    def lnlikefn(self, x):\n",
    "        diff = x - self.mu\n",
    "        return -np.dot(diff,np.dot(self.icov, diff))/2.0\n",
    "    \n",
    "    def lnpriorfn(self, x):\n",
    "        \n",
    "        if np.all(self.a <= x) and np.all(self.b >= x):\n",
    "            return 0.0\n",
    "        else:\n",
    "            return -np.inf     \n"
   ]
  },
  {
   "cell_type": "markdown",
   "metadata": {},
   "source": [
    "## Setup Gaussian model class"
   ]
  },
  {
   "cell_type": "code",
   "execution_count": 13,
   "metadata": {
    "collapsed": true
   },
   "outputs": [],
   "source": [
    "ndim = 2\n",
    "pmin, pmax = 0.0, 10.0\n",
    "glo = GaussianLikelihood(ndim=ndim, pmin=pmin, pmax=pmax)"
   ]
  },
  {
   "cell_type": "markdown",
   "metadata": {},
   "source": [
    "## Setup sampler\n",
    "\n",
    "Need to initalize the sample at ```p0``` and give an inital jump covariance matrix ```cov```."
   ]
  },
  {
   "cell_type": "code",
   "execution_count": 14,
   "metadata": {
    "collapsed": true
   },
   "outputs": [],
   "source": [
    "# Set the start position and the covariance\n",
    "p0 = np.random.uniform(pmin, pmax, ndim)\n",
    "cov = np.eye(ndim) * 0.1**2"
   ]
  },
  {
   "cell_type": "code",
   "execution_count": 15,
   "metadata": {
    "collapsed": true
   },
   "outputs": [],
   "source": [
    "sampler = PTMCMCSampler.PTSampler(ndim, glo.lnlikefn, glo.lnpriorfn, np.copy(cov), outDir='./chains')"
   ]
  },
  {
   "cell_type": "markdown",
   "metadata": {},
   "source": [
    "## Jump Proposals"
   ]
  },
  {
   "cell_type": "markdown",
   "metadata": {},
   "source": [
    "We have the option to choose whatever jump proposals we would like to use in our analysis. Here, we will use the `Uniform` jump proposal (meaning all jumps are equally likely)."
   ]
  },
  {
   "cell_type": "code",
   "execution_count": 16,
   "metadata": {
    "collapsed": true
   },
   "outputs": [],
   "source": [
    "weights = {\"Uniform\": 1}\n",
    "\n",
    "initialize_jump_proposal_kwargs = {\"Uniform\": {\"pmin\": 0, \"pmax\": 10}}"
   ]
  },
  {
   "cell_type": "markdown",
   "metadata": {},
   "source": [
    "## Run Sampler for 100000 steps\n",
    "\n",
    "Different jump proposal weights are given as integers. For example we have used a weight of 20 for all three proposals here. That means that each will be used with a probability of 20/60 = 1/3."
   ]
  },
  {
   "cell_type": "code",
   "execution_count": 17,
   "metadata": {
    "scrolled": false
   },
   "outputs": [
    {
     "name": "stdout",
     "output_type": "stream",
     "text": [
      "Finished 99.00 percent in 18.385119 s Acceptance rate = 0.0163636\n",
      "Run Complete\n"
     ]
    },
    {
     "data": {
      "text/plain": [
       "array([[5.19430238, 4.21512864],\n",
       "       [5.19430238, 4.21512864],\n",
       "       [5.19430238, 4.21512864],\n",
       "       ...,\n",
       "       [4.11298999, 2.79295201],\n",
       "       [4.11298999, 2.79295201],\n",
       "       [4.11298999, 2.79295201]])"
      ]
     },
     "execution_count": 17,
     "metadata": {},
     "output_type": "execute_result"
    }
   ],
   "source": [
    "sampler.sample(p0, 100000, weights=weights, initialize_jump_proposal_kwargs=initialize_jump_proposal_kwargs,\n",
    "               burn=500, thin=1, covUpdate=500)"
   ]
  },
  {
   "cell_type": "markdown",
   "metadata": {},
   "source": [
    "## Get jump statistics\n",
    "\n",
    "Here you can track the acceptance rate of the different jump proposals used"
   ]
  },
  {
   "cell_type": "code",
   "execution_count": 18,
   "metadata": {},
   "outputs": [
    {
     "data": {
      "text/plain": [
       "(0.0, 1.1)"
      ]
     },
     "execution_count": 18,
     "metadata": {},
     "output_type": "execute_result"
    },
    {
     "data": {
      "image/png": "[encoded data removed]",
      "text/plain": [
       "<Figure size 432x288 with 1 Axes>"
      ]
     },
     "metadata": {
      "needs_background": "light"
     },
     "output_type": "display_data"
    }
   ],
   "source": [
    "jumpfiles = glob.glob('chains/*jump.txt')\n",
    "jumps = map(np.loadtxt, jumpfiles)\n",
    "for ct, j in enumerate(jumps):\n",
    "    plt.plot(j, label=jumpfiles[ct].split('/')[-1].split('_jump.txt')[0])\n",
    "plt.legend(loc='best', frameon=False)\n",
    "plt.ylabel('Acceptance Rate')\n",
    "plt.ylim(0.0, 1.1)"
   ]
  },
  {
   "cell_type": "markdown",
   "metadata": {},
   "source": [
    "## Get the data and plot the output\n",
    "\n",
    "The output data has ndim + 4 columns. The first ndim columns are just the samples from the parameters, the ndim+1 column is the log-posterior, ndim+2 is the log-likelihood, ndim+3 is the acceptance rate, and ndim+4 is the parallel tempering swap acceptance rate for the T=1 chain."
   ]
  },
  {
   "cell_type": "code",
   "execution_count": 19,
   "metadata": {
    "collapsed": true
   },
   "outputs": [],
   "source": [
    "data = np.loadtxt('chains/chain_1.txt')\n",
    "chaint = data[:,:-4]"
   ]
  },
  {
   "cell_type": "code",
   "execution_count": 20,
   "metadata": {},
   "outputs": [
    {
     "data": {
      "text/plain": [
       "[<matplotlib.lines.Line2D at 0x11ca076a0>]"
      ]
     },
     "execution_count": 20,
     "metadata": {},
     "output_type": "execute_result"
    },
    {
     "data": {
      "image/png": "[encoded data removed]",
      "text/plain": [
       "<Figure size 432x288 with 1 Axes>"
      ]
     },
     "metadata": {
      "needs_background": "light"
     },
     "output_type": "display_data"
    }
   ],
   "source": [
    "# throw out first 25% of chain as burn in \n",
    "burn = int(0.25*chaint.shape[0])\n",
    "plt.plot(data[burn:,-4])"
   ]
  },
  {
   "cell_type": "code",
   "execution_count": 21,
   "metadata": {},
   "outputs": [
    {
     "data": {
      "image/png": "[encoded data removed]",
      "text/plain": [
       "<Figure size 396x396 with 4 Axes>"
      ]
     },
     "metadata": {
      "needs_background": "light"
     },
     "output_type": "display_data"
    }
   ],
   "source": [
    "# get the true values and plot the posteriors for the first 10 parameters\n",
    "truth = glo.mu\n",
    "corner.corner(chaint[burn:,:10], bins=50, truths=truth);"
   ]
  },
  {
   "cell_type": "code",
   "execution_count": null,
   "metadata": {
    "collapsed": true
   },
   "outputs": [],
   "source": []
  }
 ],
 "metadata": {
  "kernelspec": {
   "display_name": "PTMCMC",
   "language": "python",
   "name": "ptmcmc"
  },
  "language_info": {
   "codemirror_mode": {
    "name": "ipython",
    "version": 3
   },
   "file_extension": ".py",
   "mimetype": "text/x-python",
   "name": "python",
   "nbconvert_exporter": "python",
   "pygments_lexer": "ipython3",
   "version": "3.6.0"
  }
 },
 "nbformat": 4,
 "nbformat_minor": 1
}
